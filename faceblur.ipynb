{
 "cells": [
  {
   "cell_type": "code",
   "execution_count": 5,
   "id": "04c1db21",
   "metadata": {},
   "outputs": [],
   "source": [
    "#importing modules\n",
    "import cv2"
   ]
  },
  {
   "cell_type": "code",
   "execution_count": 6,
   "id": "001c91a7",
   "metadata": {},
   "outputs": [],
   "source": [
    "# using haarcascade model for face detection\n",
    "model= cv2.CascadeClassifier('haarcascade_frontalface_default.xml')"
   ]
  },
  {
   "cell_type": "code",
   "execution_count": 7,
   "id": "fb5bf073",
   "metadata": {},
   "outputs": [],
   "source": [
    "#acessing camera\n",
    "cap = cv2.VideoCapture(0)"
   ]
  },
  {
   "cell_type": "code",
   "execution_count": 8,
   "id": "b56b04f8",
   "metadata": {},
   "outputs": [],
   "source": [
    "#code\n",
    "while True:\n",
    "    ret, photo = cap.read()\n",
    "    face = model.detectMultiScale(photo) \n",
    "    if len(face)==0:\n",
    "        print(\"No face Found\")\n",
    " #getting position of the face\n",
    "    else:\n",
    "        x1=face[0][0]\n",
    "        y1=face[0][1]\n",
    "        x2=face[0][2]+x1\n",
    "        y2=face[0][3]+y1 \n",
    "    nphoto=cv2.rectangle(photo,(x1,y1),(x2,y2),[0,255,0],2)\n",
    "    #detected face and blur it\n",
    "    nphoto[y1:y2,x1:x2]=cv2.blur(nphoto[y1:y2,x1:x2],(80,80))\n",
    "    fphoto=cv2.cvtColor(photo , cv2.COLOR_BGRA2GRAY)\n",
    "    cv2.imshow('photo',fphoto)\n",
    "    if cv2.waitKey(10)==13:\n",
    "        break\n",
    "cv2.destroyAllWindows()\n",
    "cap.release()"
   ]
  },
  {
   "cell_type": "code",
   "execution_count": null,
   "id": "b0861e5c",
   "metadata": {},
   "outputs": [],
   "source": []
  }
 ],
 "metadata": {
  "kernelspec": {
   "display_name": "Python 3 (ipykernel)",
   "language": "python",
   "name": "python3"
  },
  "language_info": {
   "codemirror_mode": {
    "name": "ipython",
    "version": 3
   },
   "file_extension": ".py",
   "mimetype": "text/x-python",
   "name": "python",
   "nbconvert_exporter": "python",
   "pygments_lexer": "ipython3",
   "version": "3.9.7"
  }
 },
 "nbformat": 4,
 "nbformat_minor": 5
}
